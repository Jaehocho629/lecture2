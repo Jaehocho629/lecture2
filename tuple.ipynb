{
 "cells": [
  {
   "cell_type": "code",
   "execution_count": 3,
   "metadata": {},
   "outputs": [
    {
     "name": "stdout",
     "output_type": "stream",
     "text": [
      "2\n",
      "(2, 3, 4)\n"
     ]
    }
   ],
   "source": [
    "tuple_data_1 = (1,2,3,4)\n",
    "print(tuple_data_1[1])\n",
    "print(tuple_data_1[1:])\n"
   ]
  },
  {
   "cell_type": "code",
   "execution_count": 6,
   "metadata": {},
   "outputs": [
    {
     "data": {
      "text/plain": [
       "7"
      ]
     },
     "execution_count": 6,
     "metadata": {},
     "output_type": "execute_result"
    }
   ],
   "source": [
    "tuple_data_1 = (1,2,2,2,2,2,2,2,3,4)\n",
    "tuple_data_1.count(2)"
   ]
  },
  {
   "cell_type": "code",
   "execution_count": 5,
   "metadata": {},
   "outputs": [
    {
     "data": {
      "text/plain": [
       "2"
      ]
     },
     "execution_count": 5,
     "metadata": {},
     "output_type": "execute_result"
    }
   ],
   "source": [
    "tuple_data_1 = (1,2,3,4)\n",
    "tuple_data_1.index(3)"
   ]
  },
  {
   "cell_type": "code",
   "execution_count": 7,
   "metadata": {},
   "outputs": [
    {
     "name": "stdout",
     "output_type": "stream",
     "text": [
      "(1, 2, 3, 4, 4, 4, 4, 1, 2, 3, 4, 5, 6, 7)\n"
     ]
    }
   ],
   "source": [
    "tuple_data_1 = (1,2,3,4,4,4,4)\n",
    "tuple_data_2 = (1,2,3,4,5,6,7)\n",
    "tuple_data_3 = tuple_data_1 + tuple_data_2\n",
    "print(tuple_data_3)"
   ]
  },
  {
   "cell_type": "code",
   "execution_count": 12,
   "metadata": {},
   "outputs": [
    {
     "name": "stdout",
     "output_type": "stream",
     "text": [
      "(1, 2, 3, 4, 4, 4, 4, 1, 2, 3, 4, 5, 6, 7)\n",
      "8\n"
     ]
    }
   ],
   "source": [
    "tuple_data_1 = (1,2,3,4,4,4,4)\n",
    "tuple_data_2 = (1,2,3,4,5,6,7)\n",
    "tuple_data_3 = tuple_data_1 + tuple_data_2\n",
    "print(tuple_data_3)\n",
    "tuple_data_4 = tuple_data_1[2]+tuple_data_2[4]\n",
    "print(tuple_data_4)"
   ]
  },
  {
   "cell_type": "code",
   "execution_count": null,
   "metadata": {},
   "outputs": [],
   "source": []
  }
 ],
 "metadata": {
  "kernelspec": {
   "display_name": "Python 3",
   "language": "python",
   "name": "python3"
  },
  "language_info": {
   "codemirror_mode": {
    "name": "ipython",
    "version": 3
   },
   "file_extension": ".py",
   "mimetype": "text/x-python",
   "name": "python",
   "nbconvert_exporter": "python",
   "pygments_lexer": "ipython3",
   "version": "3.8.4"
  }
 },
 "nbformat": 4,
 "nbformat_minor": 4
}
