{
 "cells": [
  {
   "cell_type": "markdown",
   "metadata": {},
   "source": [
    "# Dictionary"
   ]
  },
  {
   "cell_type": "code",
   "execution_count": 3,
   "metadata": {},
   "outputs": [
    {
     "data": {
      "text/plain": [
       "3"
      ]
     },
     "execution_count": 3,
     "metadata": {},
     "output_type": "execute_result"
    }
   ],
   "source": [
    "people_info = {'성':'홍','이름':'길동','직장':'강남'}\n",
    "people_Info_list = [{'성':'홍','이름':'길동','직장':'강남'},{'성':'조','이름':'재호','직장':'강남'}]\n",
    "len(people_info)\n",
    "len(people_Info_list)\n",
    "len(people_Info_list[0])"
   ]
  },
  {
   "cell_type": "code",
   "execution_count": 8,
   "metadata": {},
   "outputs": [
    {
     "name": "stdout",
     "output_type": "stream",
     "text": [
      "길동\n",
      "강남\n"
     ]
    }
   ],
   "source": [
    "people_info = {'성':'홍','이름':'길동','직장':'강남'}\n",
    "print(people_info['이름'])\n",
    "print(people_info['직장'])"
   ]
  },
  {
   "cell_type": "code",
   "execution_count": 10,
   "metadata": {
    "scrolled": true
   },
   "outputs": [
    {
     "name": "stdout",
     "output_type": "stream",
     "text": [
      "dict_keys(['성', '이름', '직장'])\n",
      "dict_values(['홍', '길동', '강남'])\n"
     ]
    }
   ],
   "source": [
    "people_info = {'성':'홍','이름':'길동','직장':'강남'}\n",
    "print(people_info.keys())\n",
    "print(people_info.values())"
   ]
  },
  {
   "cell_type": "code",
   "execution_count": 15,
   "metadata": {},
   "outputs": [
    {
     "name": "stdout",
     "output_type": "stream",
     "text": [
      "dict_keys(['성', '이름', '직장'])\n"
     ]
    }
   ],
   "source": [
    "people_info = {'성':'홍','이름':'길동','직장':'강남'}\n",
    "print(people_info.keys())"
   ]
  },
  {
   "cell_type": "code",
   "execution_count": 16,
   "metadata": {},
   "outputs": [
    {
     "data": {
      "text/plain": [
       "list"
      ]
     },
     "execution_count": 16,
     "metadata": {},
     "output_type": "execute_result"
    }
   ],
   "source": [
    "key_list = list(people_info.keys())\n",
    "type(key_list)"
   ]
  },
  {
   "cell_type": "code",
   "execution_count": 18,
   "metadata": {},
   "outputs": [
    {
     "data": {
      "text/plain": [
       "'이름'"
      ]
     },
     "execution_count": 18,
     "metadata": {},
     "output_type": "execute_result"
    }
   ],
   "source": [
    "list(people_info.keys())[1]\n"
   ]
  },
  {
   "cell_type": "markdown",
   "metadata": {},
   "source": [
    "## 딕셔너리 삽입과 삭제"
   ]
  },
  {
   "cell_type": "code",
   "execution_count": 20,
   "metadata": {},
   "outputs": [
    {
     "name": "stdout",
     "output_type": "stream",
     "text": [
      "{'성': '홍', '이름': '길동', '직장': '강남', '취미': '테니스'}\n"
     ]
    }
   ],
   "source": [
    "people_info = {'성':'홍','이름':'길동','직장':'강남'}\n",
    "\n",
    "people_info['취미'] = '테니스'\n",
    "\n",
    "print(people_info)"
   ]
  },
  {
   "cell_type": "code",
   "execution_count": 23,
   "metadata": {},
   "outputs": [
    {
     "name": "stdout",
     "output_type": "stream",
     "text": [
      "{'성': '홍', '이름': '태경', '직장': '강남', '취미': '테니스'}\n"
     ]
    }
   ],
   "source": [
    "people_info = {'성': '홍', '이름': '길동', '직장': '강남', '취미': '테니스'}\n",
    "\n",
    "people_info['이름'] = '태경'\n",
    "\n",
    "print(people_info)"
   ]
  },
  {
   "cell_type": "code",
   "execution_count": 24,
   "metadata": {},
   "outputs": [
    {
     "name": "stdout",
     "output_type": "stream",
     "text": [
      "{'성': '홍', '이름': '길동', '직장': '강남'}\n"
     ]
    }
   ],
   "source": [
    "people_info = {'성': '홍', '이름': '길동', '직장': '강남', '취미': '테니스'}\n",
    "\n",
    "del people_info['취미']\n",
    "\n",
    "print(people_info)"
   ]
  },
  {
   "cell_type": "code",
   "execution_count": 26,
   "metadata": {},
   "outputs": [
    {
     "ename": "KeyError",
     "evalue": "'주소'",
     "output_type": "error",
     "traceback": [
      "\u001b[1;31m---------------------------------------------------------------------------\u001b[0m",
      "\u001b[1;31mKeyError\u001b[0m                                  Traceback (most recent call last)",
      "\u001b[1;32m<ipython-input-26-3871b426bdee>\u001b[0m in \u001b[0;36m<module>\u001b[1;34m\u001b[0m\n\u001b[0;32m      1\u001b[0m \u001b[0mpeople_info\u001b[0m \u001b[1;33m=\u001b[0m \u001b[1;33m{\u001b[0m\u001b[1;34m'성'\u001b[0m\u001b[1;33m:\u001b[0m \u001b[1;34m'홍'\u001b[0m\u001b[1;33m,\u001b[0m \u001b[1;34m'이름'\u001b[0m\u001b[1;33m:\u001b[0m \u001b[1;34m'길동'\u001b[0m\u001b[1;33m,\u001b[0m \u001b[1;34m'직장'\u001b[0m\u001b[1;33m:\u001b[0m \u001b[1;34m'강남'\u001b[0m\u001b[1;33m,\u001b[0m \u001b[1;34m'취미'\u001b[0m\u001b[1;33m:\u001b[0m \u001b[1;34m'테니스'\u001b[0m\u001b[1;33m}\u001b[0m\u001b[1;33m\u001b[0m\u001b[1;33m\u001b[0m\u001b[0m\n\u001b[0;32m      2\u001b[0m \u001b[1;33m\u001b[0m\u001b[0m\n\u001b[1;32m----> 3\u001b[1;33m \u001b[1;32mdel\u001b[0m \u001b[0mpeople_info\u001b[0m\u001b[1;33m[\u001b[0m\u001b[1;34m'주소'\u001b[0m\u001b[1;33m]\u001b[0m\u001b[1;33m\u001b[0m\u001b[1;33m\u001b[0m\u001b[0m\n\u001b[0m",
      "\u001b[1;31mKeyError\u001b[0m: '주소'"
     ]
    }
   ],
   "source": [
    "people_info = {'성': '홍', '이름': '길동', '직장': '강남', '취미': '테니스'}\n",
    "\n",
    "del people_info['주소']"
   ]
  },
  {
   "cell_type": "code",
   "execution_count": 29,
   "metadata": {},
   "outputs": [
    {
     "data": {
      "text/plain": [
       "True"
      ]
     },
     "execution_count": 29,
     "metadata": {},
     "output_type": "execute_result"
    }
   ],
   "source": [
    "people_info = {'성': '홍', '이름': '길동', '직장': '강남', '취미': '테니스'}\n",
    "'성' in people_info"
   ]
  },
  {
   "cell_type": "code",
   "execution_count": 32,
   "metadata": {},
   "outputs": [
    {
     "data": {
      "text/plain": [
       "False"
      ]
     },
     "execution_count": 32,
     "metadata": {},
     "output_type": "execute_result"
    }
   ],
   "source": [
    "people_info = {'성': '홍', '이름': '길동', '직장': '강남', '취미': '테니스'}\n",
    "\n",
    "'홍' in people_info\n"
   ]
  },
  {
   "cell_type": "code",
   "execution_count": 33,
   "metadata": {},
   "outputs": [
    {
     "data": {
      "text/plain": [
       "True"
      ]
     },
     "execution_count": 33,
     "metadata": {},
     "output_type": "execute_result"
    }
   ],
   "source": [
    "people_info = {'성': '홍', '이름': '길동', '직장': '강남', '취미': '테니스'}\n",
    "\n",
    "'홍' in people_info['성']"
   ]
  },
  {
   "cell_type": "code",
   "execution_count": 35,
   "metadata": {},
   "outputs": [
    {
     "data": {
      "text/plain": [
       "False"
      ]
     },
     "execution_count": 35,
     "metadata": {},
     "output_type": "execute_result"
    }
   ],
   "source": [
    "people_info = {'성': '홍', '이름': '길동', '직장': '강남', '취미': '테니스'}\n",
    "\n",
    "'성' not in people_info"
   ]
  },
  {
   "cell_type": "markdown",
   "metadata": {},
   "source": [
    "## 딕셔너리 병합(update)"
   ]
  },
  {
   "cell_type": "code",
   "execution_count": 43,
   "metadata": {},
   "outputs": [
    {
     "name": "stdout",
     "output_type": "stream",
     "text": [
      "{'성': '조', '이름': '재호', '직장': '용산', '취미': '숨쉬기'}\n"
     ]
    }
   ],
   "source": [
    "people_info_1 = {'성': '홍', '이름': '길동', '직장': '강남', '취미': '테니스'}\n",
    "people_info_2 = {'성': '조', '이름': '재호', '직장': '용산', '취미': '숨쉬기'}\n",
    "\n",
    "people_info_1.update(people_info_2)\n",
    "print(people_info_2)"
   ]
  },
  {
   "cell_type": "code",
   "execution_count": 45,
   "metadata": {},
   "outputs": [
    {
     "name": "stdout",
     "output_type": "stream",
     "text": [
      "{'성': '홍', '이름': '길동', '직장': '강남', '취미': '숨쉬기', '주소': '서울시', '나이': '29', '거주지': '용산'}\n"
     ]
    }
   ],
   "source": [
    "people_info_1 = {'성': '홍', '이름': '길동', '직장': '강남', '취미': '테니스'}\n",
    "people_info_2 = {'주소': '서울시', '나이': '29', '거주지': '용산', '취미': '숨쉬기'}\n",
    "\n",
    "people_info_1.update(people_info_2)\n",
    "print(people_info_1)"
   ]
  },
  {
   "cell_type": "code",
   "execution_count": 37,
   "metadata": {},
   "outputs": [
    {
     "data": {
      "text/plain": [
       "True"
      ]
     },
     "execution_count": 37,
     "metadata": {},
     "output_type": "execute_result"
    }
   ],
   "source": [
    "people_info_1 = {'성': '홍', '이름': '길동', '직장': '강남', '취미': '테니스'}\n",
    "people_info_2 = {'성': '홍', '이름': '길동', '직장': '강남', '취미': '테니스'}\n",
    "\n",
    "\n",
    "people_info_1 == people_info_2"
   ]
  },
  {
   "cell_type": "code",
   "execution_count": 38,
   "metadata": {},
   "outputs": [
    {
     "name": "stdout",
     "output_type": "stream",
     "text": [
      "[{'성': '홍', '이름': '길동', '직장': '강남', '취미': '테니스'}, {'성': '홍', '이름': '길동', '직장': '강남', '취미': '테니스'}]\n"
     ]
    }
   ],
   "source": [
    "people_info_1 = {'성': '홍', '이름': '길동', '직장': '강남', '취미': '테니스'}\n",
    "people_info_2 = {'성': '홍', '이름': '길동', '직장': '강남', '취미': '테니스'}\n",
    "\n",
    "people = []\n",
    "\n",
    "people.append(people_info_1)\n",
    "people.append(people_info_2)\n",
    "\n",
    "print(people)"
   ]
  },
  {
   "cell_type": "code",
   "execution_count": 41,
   "metadata": {},
   "outputs": [
    {
     "data": {
      "text/plain": [
       "{}"
      ]
     },
     "execution_count": 41,
     "metadata": {},
     "output_type": "execute_result"
    }
   ],
   "source": [
    "people_info_1 = {'성': '홍', '이름': '길동', '직장': '강남', '취미': '테니스'}\n",
    "\n",
    "people_info_1.clear()\n",
    "\n",
    "people_info_1"
   ]
  },
  {
   "cell_type": "code",
   "execution_count": null,
   "metadata": {},
   "outputs": [],
   "source": []
  }
 ],
 "metadata": {
  "kernelspec": {
   "display_name": "Python 3",
   "language": "python",
   "name": "python3"
  },
  "language_info": {
   "codemirror_mode": {
    "name": "ipython",
    "version": 3
   },
   "file_extension": ".py",
   "mimetype": "text/x-python",
   "name": "python",
   "nbconvert_exporter": "python",
   "pygments_lexer": "ipython3",
   "version": "3.8.4"
  }
 },
 "nbformat": 4,
 "nbformat_minor": 4
}
