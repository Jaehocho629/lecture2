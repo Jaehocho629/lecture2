{
 "cells": [
  {
   "cell_type": "code",
   "execution_count": 7,
   "metadata": {},
   "outputs": [
    {
     "name": "stdout",
     "output_type": "stream",
     "text": [
      "<class 'list'>\n",
      "60\n"
     ]
    }
   ],
   "source": [
    "score_lists=[10,20,30,40,50,60]\n",
    "print(type(score_lists))\n",
    "\n",
    "print(score_lists[5])"
   ]
  },
  {
   "cell_type": "code",
   "execution_count": 16,
   "metadata": {},
   "outputs": [
    {
     "name": "stdout",
     "output_type": "stream",
     "text": [
      "[20, 30]\n"
     ]
    }
   ],
   "source": [
    "score_lists=[10,20,30,40,50,60,70,80,90]\n",
    "\n",
    "print(score_lists[1:3])"
   ]
  },
  {
   "cell_type": "code",
   "execution_count": 18,
   "metadata": {},
   "outputs": [
    {
     "name": "stdout",
     "output_type": "stream",
     "text": [
      "[20, 30, 40, 50]\n"
     ]
    }
   ],
   "source": [
    "score_lists=[10,20,30,40,50,60,70,80,90]\n",
    "\n",
    "print(score_lists[1:5])\n",
    "\n",
    "#2번째부터 5번째 까지 처음출발은 포함 나중출발은 제외"
   ]
  },
  {
   "cell_type": "code",
   "execution_count": 20,
   "metadata": {},
   "outputs": [
    {
     "name": "stdout",
     "output_type": "stream",
     "text": [
      "90\n"
     ]
    }
   ],
   "source": [
    "score_lists=[10,20,30,40,50,60,70,80,90]\n",
    "\n",
    "print(score_lists[-1])\n",
    "#음수는 역으로 간다."
   ]
  },
  {
   "cell_type": "code",
   "execution_count": 62,
   "metadata": {},
   "outputs": [
    {
     "name": "stdout",
     "output_type": "stream",
     "text": [
      "[50, 60, 70, 80]\n"
     ]
    }
   ],
   "source": [
    "score_lists=[10,20,30,40,50,60,70,80,90]\n",
    "\n",
    "print(score_lists[-5:-1])\n",
    "\n",
    "#역으로 할때는 순서도 역 .. \n"
   ]
  },
  {
   "cell_type": "code",
   "execution_count": 4,
   "metadata": {},
   "outputs": [
    {
     "name": "stdout",
     "output_type": "stream",
     "text": [
      "[1, 2, 3, 4, 5, 6, 7, 8, 9]\n"
     ]
    }
   ],
   "source": [
    "list4 = list(range(1,10))\n",
    "print(list4)"
   ]
  },
  {
   "cell_type": "code",
   "execution_count": 1,
   "metadata": {},
   "outputs": [
    {
     "name": "stdout",
     "output_type": "stream",
     "text": [
      "['잘', '생', '긴']\n",
      "3\n"
     ]
    }
   ],
   "source": [
    "list5 = list('잘생긴')\n",
    "print(list5)\n",
    "print(len(list5))"
   ]
  },
  {
   "cell_type": "code",
   "execution_count": 47,
   "metadata": {},
   "outputs": [
    {
     "name": "stdout",
     "output_type": "stream",
     "text": [
      "6\n"
     ]
    }
   ],
   "source": [
    "list6 = [1,2,3,4,5,5]\n",
    "print(len(list6))"
   ]
  },
  {
   "cell_type": "code",
   "execution_count": 8,
   "metadata": {},
   "outputs": [
    {
     "name": "stdout",
     "output_type": "stream",
     "text": [
      "b\n",
      "b\n"
     ]
    }
   ],
   "source": [
    "list6 = [1,['a','b','c'],3,4,5,5]\n",
    "len(list6)\n",
    "\n",
    "list7=list6[1]\n",
    "print(list7[1])\n",
    "\n",
    "print(list6[1][1])"
   ]
  },
  {
   "cell_type": "markdown",
   "metadata": {},
   "source": [
    "## 리스트 항목 추가(append)"
   ]
  },
  {
   "cell_type": "code",
   "execution_count": 12,
   "metadata": {},
   "outputs": [
    {
     "name": "stdout",
     "output_type": "stream",
     "text": [
      "['a', 'b', 'c', 'd', 'f', 'e']\n"
     ]
    }
   ],
   "source": [
    "a_list = ['a','b','c','d']\n",
    "\n",
    "a_list.append('f')\n",
    "a_list.append('e')\n",
    "print(a_list)"
   ]
  },
  {
   "cell_type": "markdown",
   "metadata": {},
   "source": [
    "## 리스트 항목 삭제(del,remove,pop)"
   ]
  },
  {
   "cell_type": "code",
   "execution_count": 17,
   "metadata": {},
   "outputs": [
    {
     "name": "stdout",
     "output_type": "stream",
     "text": [
      "['a', 'b', 'c', 'd', 'f']\n"
     ]
    }
   ],
   "source": [
    "del_list=['a','b','c','d','f','e']\n",
    "\n",
    "del del_list[-1]\n",
    "\n",
    "print(del_list)"
   ]
  },
  {
   "cell_type": "code",
   "execution_count": 21,
   "metadata": {},
   "outputs": [
    {
     "name": "stdout",
     "output_type": "stream",
     "text": [
      "['a', 'b', 'c', 'd']\n"
     ]
    }
   ],
   "source": [
    "del_list=['a','b','c','d','f','e']\n",
    "\n",
    "del_list.remove(del_list[-1])\n",
    "\n",
    "del_list.remove('f')\n",
    "\n",
    "print(del_list)"
   ]
  },
  {
   "cell_type": "code",
   "execution_count": 28,
   "metadata": {},
   "outputs": [
    {
     "name": "stdout",
     "output_type": "stream",
     "text": [
      "['a', 'c', 'd', 'f', 'e']\n"
     ]
    }
   ],
   "source": [
    "del_list=['a','b','c','d','f','e']\n",
    "\n",
    "del_list.pop(1)\n",
    "\n",
    "print(del_list)"
   ]
  },
  {
   "cell_type": "markdown",
   "metadata": {},
   "source": [
    "## 맴버연산자(in, not in)"
   ]
  },
  {
   "cell_type": "code",
   "execution_count": 29,
   "metadata": {},
   "outputs": [
    {
     "data": {
      "text/plain": [
       "True"
      ]
     },
     "execution_count": 29,
     "metadata": {},
     "output_type": "execute_result"
    }
   ],
   "source": [
    "member_list = ['a','b','c','d','f','e']\n",
    "\n",
    "'a' in member_list"
   ]
  },
  {
   "cell_type": "code",
   "execution_count": 30,
   "metadata": {},
   "outputs": [
    {
     "name": "stdout",
     "output_type": "stream",
     "text": [
      "있다!!\n"
     ]
    }
   ],
   "source": [
    "member_list = ['a','b','c','d','f','e']\n",
    "\n",
    "if 'a' in member_list:\n",
    "    print(\"있다!!\")"
   ]
  },
  {
   "cell_type": "code",
   "execution_count": 31,
   "metadata": {},
   "outputs": [
    {
     "name": "stdout",
     "output_type": "stream",
     "text": [
      "없다!!\n"
     ]
    }
   ],
   "source": [
    "member_list = ['a','b','c','d','f','e']\n",
    "\n",
    "if 'g' not in member_list:\n",
    "    print(\"없다!!\")"
   ]
  },
  {
   "cell_type": "markdown",
   "metadata": {},
   "source": []
  }
 ],
 "metadata": {
  "kernelspec": {
   "display_name": "Python 3",
   "language": "python",
   "name": "python3"
  },
  "language_info": {
   "codemirror_mode": {
    "name": "ipython",
    "version": 3
   },
   "file_extension": ".py",
   "mimetype": "text/x-python",
   "name": "python",
   "nbconvert_exporter": "python",
   "pygments_lexer": "ipython3",
   "version": "3.8.4"
  }
 },
 "nbformat": 4,
 "nbformat_minor": 4
}
